{
  "nbformat": 4,
  "nbformat_minor": 0,
  "metadata": {
    "colab": {
      "provenance": [],
      "authorship_tag": "ABX9TyN8Bule6A37QgADAVLHXgZR",
      "include_colab_link": true
    },
    "kernelspec": {
      "name": "python3",
      "display_name": "Python 3"
    },
    "language_info": {
      "name": "python"
    }
  },
  "cells": [
    {
      "cell_type": "markdown",
      "metadata": {
        "id": "view-in-github",
        "colab_type": "text"
      },
      "source": [
        "<a href=\"https://colab.research.google.com/github/Redguitarock/Projeto_Imersao_Alura_Google/blob/main/Tradutor_de_Linguagem_T%C3%A9cnica.ipynb\" target=\"_parent\"><img src=\"https://colab.research.google.com/assets/colab-badge.svg\" alt=\"Open In Colab\"/></a>"
      ]
    },
    {
      "cell_type": "code",
      "source": [
        "!pip install -q -U google-generativeai"
      ],
      "metadata": {
        "id": "dxxmc5tm8FtK"
      },
      "execution_count": 16,
      "outputs": []
    },
    {
      "cell_type": "code",
      "source": [
        "import google.generativeai as genai\n",
        "from google.colab import userdata\n",
        "\n",
        "user_api_key = userdata.get('SECRET_KEY')\n",
        "genai.configure(api_key=user_api_key)\n",
        "\n",
        "def solicita_temperatura():\n",
        "    print(\"Escolha o grau de temperatura:\")\n",
        "    print(\"0 - Conservador\")\n",
        "    print(\"0.2 - Meio Conservador\")\n",
        "    print(\"0.5 - Ponderado\")\n",
        "    print(\"0.7 - Meio Criativo\")\n",
        "    print(\"1 - Criativo (suscetível a errar mais)\")\n",
        "    temperatura = input(\"Insira o número correspondente ao grau de temperatura desejado (padrão 0.5): \")\n",
        "    try:\n",
        "        temperatura = float(temperatura)\n",
        "        if temperatura not in [0, 0.2, 0.5, 0.7, 1]:\n",
        "            print(\"Opção inválida. Utilizando temperatura padrão (0.5).\")\n",
        "            temperatura = 0.5\n",
        "    except ValueError:\n",
        "        print(\"Entrada inválida. Utilizando temperatura padrão (0.5).\")\n",
        "        temperatura = 0.5\n",
        "    return temperatura\n",
        "\n",
        "# Pede a temperatura do usuário\n",
        "temperatura = solicita_temperatura()\n",
        "\n",
        "\"\"\"Configurando o modelo\"\"\"\n",
        "generation_config = {\n",
        "    'candidate_count': 1,\n",
        "    'temperature': temperatura,  # Defini a temperatura que será escolhida pelo usuário\n",
        "    'max_output_tokens': 1000\n",
        "}\n",
        "\n",
        "safety_settings = {\n",
        "    'HARASSMENT': 'BLOCK_NONE',\n",
        "    'HATE': 'BLOCK_NONE',\n",
        "    'SEXUAL': 'BLOCK_NONE',\n",
        "    'DANGEROUS': 'BLOCK_NONE'\n",
        "}\n",
        "\n",
        "model = genai.GenerativeModel(model_name='gemini-1.0-pro', generation_config=generation_config, safety_settings=safety_settings)\n",
        "\n",
        "def solicita_entrada():\n",
        "    assunto = input(\"Insira o assunto do texto: \")\n",
        "    texto = input(\"Insira o texto técnico que deseja simplificar: \")\n",
        "    return assunto, texto\n",
        "\n",
        "\"\"\"Simplifica um texto técnico para uma linguagem mais popular.\"\"\"\n",
        "def simplificar_texto(assunto, texto):\n",
        "    prompt = f\"\"\"\n",
        "    Você é um tradutor especializado em simplificar textos técnicos.\n",
        "\n",
        "    Traduza o seguinte texto para uma linguagem acessível a leigos no assunto:\n",
        "    \"{texto}\"\n",
        "\n",
        "    O texto trata sobre {assunto}.\n",
        "    Mantenha o significado original, mas use palavras simples e evite jargões.\n",
        "    \"\"\"\n",
        "    response = model.generate_content(prompt)\n",
        "    return response.text\n",
        "\n",
        "# Pede a entrada do usuário\n",
        "assunto, texto = solicita_entrada()\n",
        "\n",
        "# Simplifica o texto\n",
        "texto_simplificado = simplificar_texto(assunto, texto)\n",
        "\n",
        "# Imprime o resultado\n",
        "print(\"Texto simplificado: \\n\", texto_simplificado)\n"
      ],
      "metadata": {
        "id": "iyerYMkKC8UF"
      },
      "execution_count": null,
      "outputs": []
    },
    {
      "cell_type": "code",
      "source": [],
      "metadata": {
        "id": "QOMHU9YaKGWG"
      },
      "execution_count": null,
      "outputs": []
    }
  ]
}